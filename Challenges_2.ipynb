{
  "nbformat": 4,
  "nbformat_minor": 0,
  "metadata": {
    "colab": {
      "provenance": [],
      "authorship_tag": "ABX9TyPYqSIBOx4dMZfeDU5fMh26",
      "include_colab_link": true
    },
    "kernelspec": {
      "name": "python3",
      "display_name": "Python 3"
    },
    "language_info": {
      "name": "python"
    }
  },
  "cells": [
    {
      "cell_type": "markdown",
      "metadata": {
        "id": "view-in-github",
        "colab_type": "text"
      },
      "source": [
        "<a href=\"https://colab.research.google.com/github/ig-quinzel/Placement-training/blob/main/Challenges_2.ipynb\" target=\"_parent\"><img src=\"https://colab.research.google.com/assets/colab-badge.svg\" alt=\"Open In Colab\"/></a>"
      ]
    },
    {
      "cell_type": "code",
      "execution_count": null,
      "metadata": {
        "id": "c9MY_wDsThz_"
      },
      "outputs": [],
      "source": [
        "#challenges\n",
        "n=int(input())\n",
        "day=list(map(int,input().split()))\n",
        "night=list(map(int,input().split()))\n",
        "maxx=int(input())\n",
        "day.sort()\n",
        "night.sort(reverse=True)\n",
        "c=0\n",
        "for i in range(n):\n",
        "    if day[i]+night[i]>maxx:\n",
        "        c+=day[i]+night[i]-maxx\n",
        "print(c*100)\n",
        ""
      ]
    },
    {
      "cell_type": "code",
      "source": [
        "#stack\n",
        "n=int(input())\n",
        "st=[]\n",
        "for i in range(n):\n",
        "    st.append(list(input().split()))\n",
        "i=0\n",
        "reg=0\n",
        "stack=[]\n",
        "while i<n:\n",
        "    if st[i][0]==\"PUSH\":\n",
        "        stack.append(int(st[i][1]))\n",
        "    elif st[i][0]==\"STORE\":\n",
        "        reg=stack.pop()\n",
        "    elif st[i][0]==\"LOAD\":\n",
        "        stack.append(reg)\n",
        "    elif st[i][0]==\"PLUS\":\n",
        "        x,y=stack[-2],stack[-1]\n",
        "        stack[-2]=x+y\n",
        "        stack.pop()\n",
        "    elif st[i][0]==\"TIMES\":\n",
        "        x,y=stack[-2],stack[-1]\n",
        "        stack[-2]=x*y\n",
        "        stack.pop()\n",
        "    elif st[i][0]==\"IFZERO\":\n",
        "        if stack.pop()==0:\n",
        "            i=int(st[i][1])-1\n",
        "    elif st[i][0]==\"DONE\":\n",
        "        print(stack[-1])\n",
        "        exit()\n",
        "    i+=1\n",
        "\n",
        ""
      ],
      "metadata": {
        "id": "GRXXtLIRTq41"
      },
      "execution_count": null,
      "outputs": []
    },
    {
      "cell_type": "code",
      "source": [
        "#jackfruit\n",
        "n,d=map(int,input().split())\n",
        "arr=list(map(int,input().split()))\n",
        "arr.sort(reverse=True)\n",
        "s=sum(arr[:d])\n",
        "print(s)"
      ],
      "metadata": {
        "id": "A_dP0VHkTv-0"
      },
      "execution_count": null,
      "outputs": []
    },
    {
      "cell_type": "code",
      "source": [
        "#kerala monsoon\n",
        "n=int(input())\n",
        "pos=[]\n",
        "hei=[]\n",
        "for i in range(n):\n",
        "    p,h=map(int,input().split())\n",
        "    pos.append(p)\n",
        "    hei.append(h)\n",
        "left=[0]*n\n",
        "right=[0]*n\n",
        "left[0]=hei[0]\n",
        "right[n-1]=hei[n-1]\n",
        "for i in range(1,n):\n",
        "    left[i]=max(left[i],left[i-1])\n",
        "for i in range(n-2,-1,-1):\n",
        "    right[i]=max(right[i],right[i+1])\n",
        "print(abs(left[0]-right[-1]))"
      ],
      "metadata": {
        "id": "UCrvelKBVjqR"
      },
      "execution_count": null,
      "outputs": []
    }
  ]
}