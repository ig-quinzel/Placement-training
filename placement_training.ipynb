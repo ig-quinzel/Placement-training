{
  "cells": [
    {
      "cell_type": "markdown",
      "metadata": {
        "id": "view-in-github",
        "colab_type": "text"
      },
      "source": [
        "<a href=\"https://colab.research.google.com/github/ig-quinzel/Placement-training/blob/main/placement_training.ipynb\" target=\"_parent\"><img src=\"https://colab.research.google.com/assets/colab-badge.svg\" alt=\"Open In Colab\"/></a>"
      ]
    },
    {
      "cell_type": "code",
      "execution_count": null,
      "metadata": {
        "colab": {
          "base_uri": "https://localhost:8080/"
        },
        "id": "maNKsUQ6NssH",
        "outputId": "b14529a0-9090-4c7f-ec81-fe0cf1cb8660"
      },
      "outputs": [
        {
          "name": "stdout",
          "output_type": "stream",
          "text": [
            "Enter stringaabbc\n",
            "Enter unique value2\n",
            "4\n"
          ]
        }
      ],
      "source": [
        "\"\"\"Write a program to find the length of longest sub string of a given string which contains exactly k unique characters.\n",
        "s mohammed shafeeq hameed\n",
        "•\n",
        "09:25\n",
        "Example 1: s = aabbcc\n",
        "K = 2\n",
        "Output = 4\n",
        "\n",
        "Example 2: aabacbebebe\n",
        "K = 3\n",
        "Output = 7\n",
        "\"\"\"\n",
        "s=input(\"Enter string\")\n",
        "k=int(input(\"Enter unique value\"))\n",
        "new=set() #to store the unqiue values\n",
        "i=j=0 #i is the starting point of window and we're traversing the window through j\n",
        "n=len(s)\n",
        "res=\"\" #to store substring\n",
        "maxx=0\n",
        "while j<n:\n",
        "  if s[j] not in new:\n",
        "    new.add(s[j]) #if the value is not in new add it\n",
        "  if len(new)==k+1:\n",
        "    '''if the length of set is greater than k that means a new unique value is\n",
        "     added and we need to create a new window'''\n",
        "    maxx=max(maxx,len(res)) #compare the current substring length and previous max length\n",
        "    res=\"\" #clear the substring as we need to create the next substring\n",
        "    i+=1 #increment the start point of window\n",
        "    j=i\n",
        "    new.clear() #clear the set as we're checking the next unique values\n",
        "  else:\n",
        "    res+=s[j] #add the element to result(substring)\n",
        "    j+=1\n",
        "maxx=max(maxx,len(res))\n",
        "print(maxx)\n"
      ]
    },
    {
      "cell_type": "code",
      "execution_count": null,
      "metadata": {
        "colab": {
          "base_uri": "https://localhost:8080/"
        },
        "id": "oZ65WynlREEN",
        "outputId": "a16c45b4-9471-46d1-92e1-eab65f85fe60"
      },
      "outputs": [
        {
          "name": "stdout",
          "output_type": "stream",
          "text": [
            "4\n",
            "1122\n",
            "0\n",
            "0\n"
          ]
        }
      ],
      "source": [
        "\"\"\"\n",
        "Problem Description:\n",
        "You are given an array of integers, arr, and a non-negative integer K. Your task is to find the number of unique pairs (a, b) from the array such that the absolute difference between a and b is exactly K.\n",
        "A pair (a, b) is considered unique if the values a and b are distinct. The order of elements in a pair does not matter (i.e., (a, b) is the same as (b, a)). If the array contains duplicate numbers, each unique pair of values should be counted only once.\n",
        "Example:\n",
        "If arr = [1, 5, 1, 6] and K = 4:\n",
        "The unique values in the array are 1, 5, 6.\n",
        "The pair (1, 5) has an absolute difference of |1 - 5| = 4. This is one unique pair.\n",
        "Even though 1 appears twice, the pair (1, 5) is counted only once.\n",
        "If arr = [1, 1, 2, 2] and K = 0:\n",
        "The unique pairs (a, b) where |a - b| = 0 means a = b.\n",
        "The distinct value 1 forms the pair (1, 1).\n",
        "The distinct value 2 forms the pair (2, 2).\n",
        "So, there are 2 such unique pairs.\n",
        "Input Format:\n",
        "The input will consist of three lines:The first line contains an integer N, representing the number of elements in the array arr.The second line contains N space-separated integers, representing the elements of arr.The third line contains a single integer K.\n",
        "Output Format:\n",
        "Print a single integer, the total count of unique pairs (a, b) satisfying the condition.\n",
        "\n",
        "Sample Input and Output:\n",
        "Sample Input 1:\n",
        "6\n",
        "1 5 3 4 2 8\n",
        "2\n",
        "\n",
        "Sample Output 1:\n",
        "3\n",
        "\n",
        "Explanation:\n",
        "Unique elements: 1, 2, 3, 4, 5, 8.\n",
        "Pairs with absolute difference 2: (1,3), (2,4), (3,5). Total 3 pairs.\n",
        "\"\"\"\n",
        "res=[]\n",
        "n=int(input(\"Enter length\"))\n",
        "print(\"Enter numbers\")\n",
        "for i in range(n):\n",
        "  x=int(input())\n",
        "  res.append(x)\n",
        "k=int(input(\"enter number\"))\n",
        "c=0\n",
        "ok=set(res)\n",
        "ans=set()\n",
        "for i in res:\n",
        "  res.remove(i)\n",
        "  if abs(i-k) in ok and (abs(i-k),i) not in ans or (i,abs(i-k)) not in ans:\n",
        "    ans.add((abs(i-k),i))\n",
        "    ans.add((i,abs(i-k)))\n",
        "    c+=1\n",
        "print(c)"
      ]
    },
    {
      "cell_type": "code",
      "execution_count": null,
      "metadata": {
        "colab": {
          "base_uri": "https://localhost:8080/"
        },
        "id": "gjYCQOSoxBZ6",
        "outputId": "8b6e02d2-9f3a-45ec-e36c-3e867cd8329d"
      },
      "outputs": [
        {
          "name": "stdout",
          "output_type": "stream",
          "text": [
            "106\n",
            "17\n"
          ]
        }
      ],
      "source": [
        "\"\"\"Problem Statement:\n",
        "\n",
        "You are given a natural number N. Your task is to count how many times the digit 0 appears in all the numbers from 1 to N (inclusive).\n",
        "\n",
        "For example:\n",
        "If N = 20, then the numbers are: 1, 2, 3, ..., 20\n",
        "The digit 0 appears in: 10 and 20 → total 2 times.\n",
        "\n",
        "\n",
        "Write a program that calculates the total number of zeros that appear in all numbers from 1 to N.\n",
        "\n",
        "Input Format:\n",
        "A single integer N (1 ≤ N ≤ 10⁹)\n",
        "\n",
        "\n",
        "Output Format:\n",
        "A single integer representing the total count of digit 0s in numbers from 1 to N\n",
        "\n",
        "Sample Input 1:\n",
        "\n",
        "20\n",
        "\n",
        "Sample Output 1:\n",
        "\n",
        "2\n",
        "\n",
        "Sample Input 2:\n",
        "\n",
        "105\n",
        "\n",
        "Sample Output 2:\n",
        "\n",
        "16\n",
        "Explanation for Sample 2:\n",
        "\n",
        "The digit 0 appears in:\n",
        "10, 20, 30, 40, 50, 60, 70, 80, 90, 100, 101, 102, 103, 104, 105\n",
        "(→ total of 16 zeros)\n",
        "\"\"\"\n",
        "k=int(input())\n",
        "res=\"\"\n",
        "for i in range(1,k+1):\n",
        "  res+=str(i)\n",
        "print(res.count(\"0\"))\n",
        "\n",
        "\n",
        "\n",
        "\n"
      ]
    },
    {
      "cell_type": "code",
      "execution_count": null,
      "metadata": {
        "id": "N88Co3aeKNzo"
      },
      "outputs": [],
      "source": [
        "ans=[]\n",
        "for i in range(len(strs)):\n",
        "  l1=[]\n",
        "  l1.append(strs[i])\n",
        "  s=Counter(strs[i])\n",
        "  new=strs[:i]+strs[i+1:]\n",
        "  for j in new:\n",
        "    if Counter(j)==s:\n",
        "      l1.append(j)\n",
        "      ans.append(l1)\n",
        "return ans"
      ]
    },
    {
      "cell_type": "code",
      "execution_count": null,
      "metadata": {
        "id": "dexJzODaiArS"
      },
      "outputs": [],
      "source": [
        "\"\"\"\n",
        "We can rotate digits by 180 degrees to form new digits. When 0, 1, 6, 8, 9 are rotated 180 degrees, they become 0, 1, 9, 8, 6 respectively. When 2, 3, 4, 5 and 7 are rotated 180 degrees, they become invalid.\n",
        "\n",
        "A confusing number is a number that when rotated 180 degrees becomes a different number with each digit valid.(Note that the rotated number can be greater than the original number.)\n",
        "\n",
        "Given a positive integer N, return the number of confusing numbers between 1 and N inclusive.\n",
        "\n",
        "\n",
        "\n",
        "Example 1:\n",
        "\n",
        "Input: 20\n",
        "Output: 6\n",
        "Explanation:\n",
        "The confusing numbers are [6,9,10,16,18,19].\n",
        "6 converts to 9.\n",
        "9 converts to 6.\n",
        "10 converts to 01 which is just 1.\n",
        "16 converts to 91.\n",
        "18 converts to 81.\n",
        "19 converts to 61.\n",
        "Example 2:\n",
        "\n",
        "Input: 100\n",
        "Output: 19\n",
        "Explanation:\n",
        "The confusing numbers are [6,9,10,16,18,19,60,61,66,68,80,81,86,89,90,91,98,99,100].\n",
        "\n",
        "\n",
        "Note:\n",
        "\n",
        "1 <= N <= 10^9 \"\"\"\n",
        "d={0:0,1:1,6:9,8:8,9:6}\n",
        "n=int(input(\"enter number\"))\n",
        "def confuse(num):\n",
        "\n",
        "for i in range(1,n+1):\n",
        "  res.append(i)\n",
        "c=0\n",
        "for i in res:\n",
        "  confuse(i)\n",
        "\n"
      ]
    },
    {
      "cell_type": "code",
      "execution_count": null,
      "metadata": {
        "colab": {
          "background_save": true
        },
        "id": "o7K0bBDXkcga",
        "outputId": "e07402bc-d650-4997-cdd6-5f8670e72d9d"
      },
      "outputs": [
        {
          "name": "stdout",
          "output_type": "stream",
          "text": [
            "8\n"
          ]
        }
      ],
      "source": [
        "\"\"\"\n",
        "Given an array containing n distinct numbers taken from 0, 1, 2, ..., n, find the one that is missing from the array.\n",
        "\n",
        "    Example 1:\n",
        "\n",
        "    Input: [3,0,1]\n",
        "    Output: 2\n",
        "    Example 2:\n",
        "\n",
        "    Input: [9,6,4,2,3,5,7,0,1]\n",
        "    Output: 8\n",
        "\"\"\"\n",
        "input=[9,6,4,2,3,5,7,0,1]\n",
        "maxx=max(input)\n",
        "tot=maxx*(maxx+1)"
      ]
    },
    {
      "cell_type": "code",
      "source": [
        "'''\n",
        "Mr. Ramesh is the manager at the  hotel. The hotel has an infinite amount of rooms.\n",
        "One fine day, a  number of tourists come to stay at the hotel.\n",
        "The tourists consist of:\n",
        "→ A Captain.\n",
        "→ An unknown group of families consisting of  members per group where  ≠ .\n",
        "The Captain was given a separate room, and the rest were given one room per group.\n",
        "Mr. Ramesh has an unordered list of randomly arranged room entries. The list consists of the room numbers for all of the tourists. The room numbers will appear  times per group except for the Captain's room.\n",
        "Mr. Ramesh needs you to help him find the Captain's room number.\n",
        "\n",
        "\n",
        "The first line consists of an integer, , the size of each group.\n",
        "The second line contains the unordered elements of the room number list.\n",
        "\n",
        "\n",
        "\n",
        "\n",
        "Output the Captain's room number.\n",
        "\n",
        "5\n",
        "1 2 3 6 5 4 4 2 5 3 6 1 6 5 3 2 4 1 2 5 1 4 3 6 8 4 3 1 5 6 2\n",
        "8\n",
        "'''\n",
        "from collections import Counter\n",
        "k=5\n",
        "arr=[1, 2, 3, 6, 5, 4, 4, 2, 5, 3, 6, 1, 6, 5, 3, 2, 4, 1, 2, 5, 1, 4, 3, 6, 8, 4, 3, 1, 5, 6,2]\n",
        "s=Counter(arr)\n",
        "for key,val in s.items():\n",
        "  if val==1:\n",
        "    print(key)\n",
        "    break\n",
        "new=set(arr)\n",
        "sum1=sum(new)\n",
        "new1=sum1*k\n",
        "sum2=sum(arr)\n",
        "print((new1-sum2)//(k-1))"
      ],
      "metadata": {
        "colab": {
          "base_uri": "https://localhost:8080/"
        },
        "id": "jIMCHevXdR2E",
        "outputId": "60df9d33-7818-42e0-c729-0c25f25a4dd2"
      },
      "execution_count": null,
      "outputs": [
        {
          "output_type": "stream",
          "name": "stdout",
          "text": [
            "8\n",
            "8\n"
          ]
        }
      ]
    },
    {
      "cell_type": "code",
      "source": [
        "'''\n",
        "Given an amount and the denominations of coins available, determine how many ways change can be made for amount. There is a limitless supply of each coin type.\n",
        "s mohammed shafeeq hameed\n",
        "•\n",
        "09:37\n",
        "Input:\n",
        "\n",
        "amount =3\n",
        "D = [1,2,3]\n",
        "Output: 3\n",
        "Explanation: {(1,1,1), (1,2), (3)}\n",
        "'''\n",
        "d=[6,1,2,3]\n",
        "d.sort()\n",
        "a=3\n",
        "n=len(d)\n",
        "res=[]\n",
        "def back(start,path):\n",
        "  if sum(path)==a:\n",
        "    res.append(path[:])\n",
        "    return\n",
        "  if sum(path)>a:\n",
        "    return\n",
        "  for i in range(start,n):\n",
        "    path.append(d[i])\n",
        "    back(i,path)\n",
        "    path.pop()\n",
        "back(0,[])\n",
        "for i in res:\n",
        "  i.sort()\n",
        "new=[]\n",
        "for i in res:\n",
        "  if i not in new:\n",
        "    new.append(i)\n",
        "print(len(new))\n",
        "\n",
        "d=[6,1,2,3]\n",
        "d.sort()\n",
        "a=3\n",
        "n=len(d)\n",
        "res=set()\n",
        "def back1(start,path,curr):\n",
        "  if curr==a:\n",
        "    res.add(tuple(sorted(path)))\n",
        "    return\n",
        "  if curr>a:\n",
        "    return\n",
        "  for i in range(start,n):\n",
        "    path.append(d[i])\n",
        "    back1(i,path,d[i]+curr)\n",
        "    path.pop()\n",
        "back1(0,[],0)\n",
        "print(len(res))\n",
        "\n"
      ],
      "metadata": {
        "colab": {
          "base_uri": "https://localhost:8080/"
        },
        "id": "IrbNsLnHlXSp",
        "outputId": "4d1377c9-0ebc-42ff-f235-323fc963a6ac"
      },
      "execution_count": null,
      "outputs": [
        {
          "output_type": "stream",
          "name": "stdout",
          "text": [
            "3\n",
            "3\n"
          ]
        }
      ]
    },
    {
      "cell_type": "code",
      "source": [
        "n=10\n",
        "res=[0]*n\n",
        "q = [[1,5,3], [4,8,7], [6,9,1]]\n",
        "print(res)\n",
        "for i in q:\n",
        "  st,en,val=i\n",
        "  while st<=en:\n",
        "    res[st]+=val\n",
        "    st+=1\n",
        "print(res)\n",
        "print(max(res))"
      ],
      "metadata": {
        "colab": {
          "base_uri": "https://localhost:8080/"
        },
        "id": "_6MCybPsvCdW",
        "outputId": "2d0dcb7a-4ffa-45dd-dee4-de623b3bc05b"
      },
      "execution_count": null,
      "outputs": [
        {
          "output_type": "stream",
          "name": "stdout",
          "text": [
            "[0, 0, 0, 0, 0, 0, 0, 0, 0, 0]\n",
            "[0, 3, 3, 3, 10, 10, 8, 8, 8, 1]\n",
            "10\n"
          ]
        }
      ]
    },
    {
      "cell_type": "code",
      "source": [
        "'''\n",
        "Given a string text, you want to use the characters of text to form as many instances of the word \"balloon\" as possible.\n",
        "You can use each character in text at most once. Return the maximum number of instances that can be formed.\n",
        "\n",
        "\n",
        "Example 1:\n",
        "Input: text = \"nlaebolko\"\n",
        "Output: 1\n",
        "\n",
        "Example 2:\n",
        "Input: text = \"loonbalxballpoon\"\n",
        "Output: 2\n",
        "\n",
        "Example 3:\n",
        "Input: text = \"lwillcode\"\n",
        "Output: 0\n",
        "\n",
        "\n",
        "Constraints:\n",
        "\n",
        "1 <= text.length <= 10^4\n",
        "text consists of lower case English letters only.\n",
        "'''\n",
        "from collections import Counter\n",
        "new=[]\n",
        "s='balloon'\n",
        "text = \"loonbaoolxballpoon\"\n",
        "for i in text:\n",
        "  if i in s:\n",
        "    new.append(i)\n",
        "if len(new)==0:\n",
        "  print(\"0\")\n",
        "else:\n",
        "  n=Counter(new)\n",
        "  minn=min(n.values())\n",
        "  if all(x>=minn for x in n.values()) and len(n)==len(set(s)):\n",
        "    print(minn)\n",
        "  else:\n",
        "    print(\"0\")"
      ],
      "metadata": {
        "colab": {
          "base_uri": "https://localhost:8080/"
        },
        "id": "cScatYS86f5K",
        "outputId": "75add12b-0fd0-4a13-de1f-b58d7e26502d"
      },
      "execution_count": null,
      "outputs": [
        {
          "output_type": "stream",
          "name": "stdout",
          "text": [
            "2\n"
          ]
        }
      ]
    },
    {
      "cell_type": "code",
      "source": [],
      "metadata": {
        "id": "twb030HPAC2G"
      },
      "execution_count": null,
      "outputs": []
    }
  ],
  "metadata": {
    "accelerator": "GPU",
    "colab": {
      "gpuType": "T4",
      "provenance": [],
      "authorship_tag": "ABX9TyNVrP565GuqWLgNWgijsLWI",
      "include_colab_link": true
    },
    "kernelspec": {
      "display_name": "Python 3",
      "name": "python3"
    },
    "language_info": {
      "name": "python"
    }
  },
  "nbformat": 4,
  "nbformat_minor": 0
}