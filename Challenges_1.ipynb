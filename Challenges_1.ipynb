{
  "nbformat": 4,
  "nbformat_minor": 0,
  "metadata": {
    "colab": {
      "provenance": [],
      "authorship_tag": "ABX9TyPYtWNMrKWWLT1I5k4yhNqU",
      "include_colab_link": true
    },
    "kernelspec": {
      "name": "python3",
      "display_name": "Python 3"
    },
    "language_info": {
      "name": "python"
    }
  },
  "cells": [
    {
      "cell_type": "markdown",
      "metadata": {
        "id": "view-in-github",
        "colab_type": "text"
      },
      "source": [
        "<a href=\"https://colab.research.google.com/github/ig-quinzel/Placement-training/blob/main/Challenges_1.ipynb\" target=\"_parent\"><img src=\"https://colab.research.google.com/assets/colab-badge.svg\" alt=\"Open In Colab\"/></a>"
      ]
    },
    {
      "cell_type": "code",
      "execution_count": null,
      "metadata": {
        "id": "v98RvpLLSW2d"
      },
      "outputs": [],
      "source": [
        "#factorial\n",
        "def fac(n):\n",
        "    if n==0 or n==1:\n",
        "        return 1\n",
        "    return (n*(fac(n-1)))\n",
        "\n",
        "\n",
        "n=int(input())\n",
        "ans=fac(n)\n",
        "print(ans)"
      ]
    },
    {
      "cell_type": "code",
      "source": [
        "#matrix\n",
        "\n",
        "m1,n1=map(int,input().split(\" \"))\n",
        "\n",
        "mat1=[]\n",
        "mat2=[]\n",
        "for i in range(m1):\n",
        "    r=list(map(int,input().split()))\n",
        "    mat1.append(r)\n",
        "for i in range(m1):\n",
        "    r=list(map(int,input().split()))\n",
        "    mat2.append(r)\n",
        "print(\"First Matrix:\")\n",
        "for i in range(m1):\n",
        "    for j in range(n1):\n",
        "        print(mat1[i][j],end=\" \")\n",
        "    print()\n",
        "print(\"Second Matrix:\")\n",
        "for i in range(m1):\n",
        "    for j in range(n1):\n",
        "        print(mat2[i][j],end=\" \")\n",
        "    print()\n",
        "mat3=[]\n",
        "print(\"Sum of the two matrices is:\")\n",
        "for i in range(m1):\n",
        "    for j in range(n1):\n",
        "        print(mat1[i][j]+mat2[i][j],end=\" \")\n",
        "    print()\n"
      ],
      "metadata": {
        "id": "A0fyTEf-Seim"
      },
      "execution_count": null,
      "outputs": []
    },
    {
      "cell_type": "code",
      "source": [
        "#paranthesis\n",
        "s=input()\n",
        "c=0\n",
        "x=0\n",
        "for i in s:\n",
        "    if i==\"{\":\n",
        "        c+=1\n",
        "    else:\n",
        "        c-=1\n",
        "    if c<0:\n",
        "        x=1\n",
        "        break\n",
        "if c==0:\n",
        "    print(\"Matching\")\n",
        "else:\n",
        "    print(\"Not Matching\")"
      ],
      "metadata": {
        "id": "RmFc1aefSm8V"
      },
      "execution_count": null,
      "outputs": []
    },
    {
      "cell_type": "code",
      "source": [
        "#check duplicates\n",
        "from collections import Counter\n",
        "\n",
        "n=int(input())\n",
        "\n",
        "arr=list(map(int,input().split()))\n",
        "\n",
        "s=Counter(arr)\n",
        "\n",
        "if any(x==2 for x in s.values()):\n",
        "\n",
        "    print(\"true\")\n",
        "\n",
        "else:\n",
        "\n",
        "    print(\"false\")"
      ],
      "metadata": {
        "id": "PLtSZl83SvO9"
      },
      "execution_count": null,
      "outputs": []
    },
    {
      "cell_type": "code",
      "source": [
        "#two pointer\n",
        "n=int(input())\n",
        "arr=list(map(int,input().split()))\n",
        "t=int(input())\n",
        "i,j=0,n-1\n",
        "n=len(arr)\n",
        "x=0\n",
        "while i<j:\n",
        "    summ=arr[i]+arr[j]\n",
        "    if summ==t:\n",
        "        x=1\n",
        "        print(\"Yes\")\n",
        "        break\n",
        "    elif summ<t:\n",
        "        i+=1\n",
        "    else:\n",
        "        j-=1\n",
        "\n",
        "if x==0:\n",
        "    print(\"No\")"
      ],
      "metadata": {
        "id": "gNTxdhjDS3xV"
      },
      "execution_count": null,
      "outputs": []
    },
    {
      "cell_type": "code",
      "source": [
        "#stock\n",
        "n=int(input())\n",
        "arr=list(map(int,input().split()))\n",
        "maxx=0\n",
        "minn=arr[0]\n",
        "for i in range(len(arr)):\n",
        "    minn=min(minn,arr[i])\n",
        "    prof=arr[i]-minn\n",
        "    maxx=max(maxx,prof)\n",
        "print(maxx)"
      ],
      "metadata": {
        "id": "kk6pkBRNTGJ9"
      },
      "execution_count": null,
      "outputs": []
    },
    {
      "cell_type": "code",
      "source": [
        "#count\n",
        "m=int(input())\n",
        "n=int(input())\n",
        "mat=[]\n",
        "for i in range(m):\n",
        "    r=list(map(int,input().split()))\n",
        "    mat.append(r)\n",
        "c=0\n",
        "for i in mat:\n",
        "    for j in i:\n",
        "        if j<0:\n",
        "            c+=1\n",
        "print(c)"
      ],
      "metadata": {
        "id": "Lnm700KiTLR9"
      },
      "execution_count": null,
      "outputs": []
    },
    {
      "cell_type": "code",
      "source": [
        "#stack\n",
        "class Prob:\n",
        "    def __init__(self):\n",
        "        self.stack=[]\n",
        "\n",
        "    def pushstack(self,val):\n",
        "        self.stack.append(val)\n",
        "\n",
        "    def popstack(self):\n",
        "        self.stack.pop()\n",
        "\n",
        "    def topstack(self):\n",
        "        return self.stack[-1]\n",
        "\n",
        "    def minnstack(self):\n",
        "        return min(self.stack)\n",
        "\n",
        "\n",
        "if __name__=='__main__':\n",
        "    n=int(input())\n",
        "    s=Prob()\n",
        "    for _ in range(n):\n",
        "        x=list(map(int,input().split()))\n",
        "        if x[0]==0:\n",
        "            s.pushstack(x[1])\n",
        "        elif x[0]==1:\n",
        "            s.popstack()\n",
        "        elif x[0]==2:\n",
        "            ans=s.topstack()\n",
        "            print(ans)\n",
        "        else:\n",
        "            ans=s.minnstack()\n",
        "            print(ans)"
      ],
      "metadata": {
        "id": "j2Fozc_STTqU"
      },
      "execution_count": null,
      "outputs": []
    }
  ]
}